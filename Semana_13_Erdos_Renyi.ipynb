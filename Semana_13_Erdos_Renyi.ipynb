{
  "nbformat": 4,
  "nbformat_minor": 0,
  "metadata": {
    "colab": {
      "provenance": []
    },
    "kernelspec": {
      "name": "python3",
      "display_name": "Python 3"
    },
    "language_info": {
      "name": "python"
    }
  },
  "cells": [
    {
      "cell_type": "code",
      "execution_count": null,
      "metadata": {
        "id": "ECavlxtSo4Nv"
      },
      "outputs": [],
      "source": [
        "import numpy as np\n",
        "import matplotlib.pyplot as plt"
      ]
    },
    {
      "cell_type": "code",
      "source": [
        "class ErdosRenyi_Gnp:\n",
        "  def __init__(self, n_vertices, prob):\n",
        "    self.ordem = n_vertices\n",
        "    self.tamanho = 0\n",
        "    self.matriz_adjacencias = np.zeros([n_vertices, n_vertices])\n",
        "\n",
        "    for i in range(n_vertices-1):\n",
        "      for j in range(i+1, n_vertices):\n",
        "        numero_aleatorio = np.random.random()\n",
        "        if numero_aleatorio < prob:\n",
        "          self.matriz_adjacencias[i, j] = 1\n",
        "          self.matriz_adjacencias[j, i] = 1\n",
        "          self.tamanho += 1\n",
        "\n",
        "  def __str__(self):\n",
        "    return f\"Esse é um grafo com {self.ordem} vértices e {self.tamanho} arestas\"\n",
        "\n",
        "  def getGrau(self):\n",
        "    graus = []\n",
        "    for i in range(self.ordem):\n",
        "      graus.append(np.sum(self.matriz_adjacencias[i]))\n",
        "    return graus"
      ],
      "metadata": {
        "id": "bbyN2Is1p4qk"
      },
      "execution_count": null,
      "outputs": []
    },
    {
      "cell_type": "code",
      "source": [
        "class ErdosRenyi_Gnm:\n",
        "  def __init__(self, n_vertices, n_arestas):\n",
        "    self.ordem = n_vertices\n",
        "    self.tamanho = n_arestas\n",
        "    self.matriz_adjacencias = np.zeros([n_vertices, n_vertices])\n",
        "\n",
        "    while self.tamanho < n_arestas:\n",
        "      a = np.random.randint(self.ordem)\n",
        "      b = np.random.randint(self.ordem)\n",
        "      if( (a != b) and (self.matriz_adjacencias[a,b] == 0)):\n",
        "        self.matriz_adjacencias[a,b] = 1\n",
        "        self.matriz_adjacencias[b,a] = 1\n",
        "        self.tamanho += 1\n"
      ],
      "metadata": {
        "id": "ic8FIu2PvbGI"
      },
      "execution_count": null,
      "outputs": []
    },
    {
      "cell_type": "code",
      "source": [
        "G2 = ErdosRenyi_Gnm(10000, 20000)"
      ],
      "metadata": {
        "id": "ek-jcgiXwFPE"
      },
      "execution_count": null,
      "outputs": []
    },
    {
      "cell_type": "code",
      "source": [
        "G1 = ErdosRenyi_Gnp(3000, 0.8)\n",
        "print(G1)"
      ],
      "metadata": {
        "colab": {
          "base_uri": "https://localhost:8080/"
        },
        "id": "7LjmH4K2qO6X",
        "outputId": "f96f04cb-1ec4-44a5-ca5f-084ee989ddc2"
      },
      "execution_count": null,
      "outputs": [
        {
          "output_type": "stream",
          "name": "stdout",
          "text": [
            "Esse é um grafo com 3000 vértices e 3599351 arestas\n"
          ]
        }
      ]
    },
    {
      "cell_type": "code",
      "source": [
        "graus = G1.getGrau()\n",
        "media = np.mean(graus)\n",
        "\n",
        "plt.figure(figsize=(5,2))\n",
        "plt.title(\"Distribuição de graus do modelo Erdos Renyi\")\n",
        "plt.hist(graus, color='skyblue', edgecolor='black')\n",
        "plt.axvline(x=media, color=\"red\", linestyle='dashed', label=f\"Média: {media}\")\n",
        "plt.xlabel(\"Grau\")\n",
        "plt.ylabel(\"Frequencia\")\n",
        "plt.show()"
      ],
      "metadata": {
        "colab": {
          "base_uri": "https://localhost:8080/",
          "height": 256
        },
        "id": "_JicEEUBrWKe",
        "outputId": "60935925-2e78-4e10-b469-d5d84a30b187"
      },
      "execution_count": null,
      "outputs": [
        {
          "output_type": "display_data",
          "data": {
            "text/plain": [
              "<Figure size 500x200 with 1 Axes>"
            ],
            "image/png": "[encoded data removed]"
          },
          "metadata": {}
        }
      ]
    },
    {
      "cell_type": "code",
      "source": [],
      "metadata": {
        "id": "oVES3vD3sgBF"
      },
      "execution_count": null,
      "outputs": []
    }
  ]
}